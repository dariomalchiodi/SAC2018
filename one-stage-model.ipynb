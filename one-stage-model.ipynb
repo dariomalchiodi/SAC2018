{
 "cells": [
  {
   "cell_type": "markdown",
   "metadata": {},
   "source": [
    "## Data loading"
   ]
  },
  {
   "cell_type": "code",
   "execution_count": 1,
   "metadata": {
    "collapsed": false
   },
   "outputs": [
    {
     "name": "stdout",
     "output_type": "stream",
     "text": [
      "1444 data items\n"
     ]
    }
   ],
   "source": [
    "# Data format:\n",
    "#\n",
    "# n0, n1, ...\n",
    "# mu0, k00, k01, ..., k0n\n",
    "# ...\n",
    "# mun, kn0, kn1, ..., knn\n",
    "\n",
    "import csv\n",
    "import numpy as np\n",
    "\n",
    "#data_file_name = 'data/axioms-toy.csv'\n",
    "#data_file_name = 'data/data-tettamanzi-little.csv'\n",
    "data_file_name = 'data/data-tettamanzi-complete.csv'\n",
    "\n",
    "with open(data_file_name) as data_file:\n",
    "    data = np.array(list(csv.reader(data_file)))\n",
    "\n",
    "n = len(data) - 1\n",
    "\n",
    "print '%d data items' % n"
   ]
  },
  {
   "cell_type": "markdown",
   "metadata": {},
   "source": [
    "## Extract data names, membership values and Gram matrix"
   ]
  },
  {
   "cell_type": "code",
   "execution_count": 2,
   "metadata": {
    "collapsed": false
   },
   "outputs": [],
   "source": [
    "n = 1444\n",
    "\n",
    "names = np.array(data[0])[1:n+1]\n",
    "mu = np.array([float(row[0]) for row in data[1:n+1]])\n",
    "gram = np.array([[float(k.replace('NA', '0')) for k in row[1:n+1]] for row in data[1:n+1]])\n",
    "\n",
    "assert(len(names.shape) == 1)\n",
    "assert(len(mu.shape) == 1)\n",
    "assert(len(gram.shape) == 2)\n",
    "assert(names.shape[0] == gram.shape[0] == gram.shape[1] == mu.shape[0])"
   ]
  },
  {
   "cell_type": "markdown",
   "metadata": {},
   "source": [
    "## Compute adjustement in case of ill-conditioned Gram matrix"
   ]
  },
  {
   "cell_type": "code",
   "execution_count": 3,
   "metadata": {
    "collapsed": false
   },
   "outputs": [
    {
     "name": "stdout",
     "output_type": "stream",
     "text": [
      "non PSD matrix: diagonal adjusment of 292.405301431\n"
     ]
    }
   ],
   "source": [
    "eigvals = np.linalg.eigvals(gram)\n",
    "assert(sum([abs(e.imag) for e in eigvals]) < 1e-4)\n",
    "abs_neg_eigvals = [-l.real for l in eigvals if l < 0]\n",
    "adjustment = max(abs_neg_eigvals) if abs_neg_eigvals else 0\n",
    "if adjustment:\n",
    "    print('non PSD matrix: diagonal adjusment of {0}'.format(adjustment))"
   ]
  },
  {
   "cell_type": "markdown",
   "metadata": {},
   "source": [
    "## Retrieve hardness index for axioms ##"
   ]
  },
  {
   "cell_type": "code",
   "execution_count": 4,
   "metadata": {
    "collapsed": false
   },
   "outputs": [
    {
     "name": "stdout",
     "output_type": "stream",
     "text": [
      "There are 1410 easy and 34 hard axioms\n"
     ]
    }
   ],
   "source": [
    "import json\n",
    "with open('hardness.json', 'r') as f:\n",
    "    hardness = json.load(f)\n",
    "\n",
    "num_hard = sum(hardness)\n",
    "num_easy = n - num_hard\n",
    "hardness_count = (num_easy, num_hard)\n",
    "\n",
    "print 'There are {} easy and {} hard axioms'.format(num_easy, num_hard)"
   ]
  },
  {
   "cell_type": "markdown",
   "metadata": {},
   "source": [
    "   ## Learning membership for \"easy\" axioms ##"
   ]
  },
  {
   "cell_type": "code",
   "execution_count": 72,
   "metadata": {
    "collapsed": false,
    "scrolled": true
   },
   "outputs": [],
   "source": [
    "from possibilearn import split_indices, flatten, possibility_learn\n",
    "from possibilearn.kernel import PrecomputedKernel\n",
    "from possibilearn.fuzzifiers import CrispFuzzifier\n",
    "\n",
    "def square_errors(a, b):\n",
    "    return map(lambda (a, b): (b-a)**2, zip(a, b))\n",
    "\n",
    "def performance_mu_summary(axioms, mu, membership):\n",
    "    perf = square_errors([membership(a) for a in axioms], mu)\n",
    "    return (np.mean(perf), np.median(perf))\n",
    "\n",
    "def performance_poss_summary(estimated, actual):\n",
    "    perf = square_errors(estimated, actual)\n",
    "    return (np.mean(perf), np.median(perf))\n",
    "\n",
    "def poss((phi, notphi), membership):\n",
    "    return membership(phi)-membership(notphi)\n",
    "\n",
    "k = PrecomputedKernel(gram)\n",
    "\n",
    "def experiment(fuzzifier):\n",
    "    axiom_indices = range(n)\n",
    "\n",
    "    hardness_class = 1\n",
    "    hard_axiom_indices = [i for i in range(n) if hardness[i]]\n",
    "    num_hard_axioms = len(hard_axiom_indices)\n",
    "    mu_hard_axioms = [mu[i] for i in range(n) if hardness[i]]\n",
    "    \n",
    "    easy_axiom_indices = [i for i in range(n) if not hardness[i]]\n",
    "    num_easy_axioms = len(easy_axiom_indices)\n",
    "    mu_easy_axioms = [mu[i] for i in range(n) if not hardness[i]]\n",
    "    \n",
    "    assert(num_easy_axioms + num_hard_axioms == n)\n",
    "\n",
    "    paired_hard_axioms = [hard_axiom_indices[i:i+2] for i in range(0, num_hard_axioms, 2)]\n",
    "    paired_hard_labels = [mu_hard_axioms[i:i+2] for i in range(0, num_hard_axioms, 2)]\n",
    "    \n",
    "    paired_easy_axioms = [easy_axiom_indices[i:i+2] for i in range(0, num_easy_axioms, 2)]\n",
    "    paired_easy_labels = [mu_easy_axioms[i:i+2] for i in range(0, num_easy_axioms, 2)]\n",
    "    \n",
    "    percentages = (.8, 0, .2)\n",
    "\n",
    "    (paired_easy_axioms_train,\n",
    "     _,\n",
    "     paired_easy_axioms_test,\n",
    "     paired_easy_mu_train,\n",
    "     _,\n",
    "     paired_easy_mu_test) = split_indices(paired_easy_axioms, paired_easy_labels, percentages)\n",
    "    \n",
    "    (paired_hard_axioms_train,\n",
    "     _,\n",
    "     paired_hard_axioms_test,\n",
    "     paired_hard_mu_train,\n",
    "     _,\n",
    "     paired_hard_mu_test) = split_indices(paired_hard_axioms, paired_hard_labels, percentages)\n",
    "\n",
    "    paired_axioms_test = paired_easy_axioms_test + paired_hard_axioms_test\n",
    "    paired_mu_test = paired_easy_mu_test + paired_hard_mu_test\n",
    "    \n",
    "    easy_axioms_train = flatten(paired_easy_axioms_train)\n",
    "    easy_axioms_test = flatten(paired_easy_axioms_test)\n",
    "    easy_mu_train = flatten(paired_easy_mu_train)\n",
    "    easy_mu_test = flatten(paired_easy_mu_test)\n",
    "    \n",
    "    hard_axioms_train = flatten(paired_hard_axioms_train)\n",
    "    hard_axioms_test = flatten(paired_hard_axioms_test)\n",
    "    hard_mu_train = flatten(paired_hard_mu_train)\n",
    "    hard_mu_test = flatten(paired_hard_mu_test)\n",
    "\n",
    "    axioms_train = easy_axioms_train + hard_axioms_train\n",
    "    axioms_test = easy_axioms_test + hard_axioms_test\n",
    "    mu_train = easy_mu_train + hard_mu_train\n",
    "    mu_test = easy_mu_test + hard_mu_test\n",
    "\n",
    "    def g(m):\n",
    "        return np.random.choice(axiom_indices, m if m <= len(axiom_indices) else len(axiom_indices))\n",
    "    \n",
    "    result = possibility_learn(axioms_train, mu_train, c=0.1, k=k, sample_generator=g,\n",
    "                           adjustment=adjustment, fuzzifier=fuzzifier)\n",
    "\n",
    "    estimated_membership = result[0]\n",
    "    train_error = result[1]\n",
    "\n",
    "    avg_mu_error, median_mu_error = performance_mu_summary(axioms_test, mu_test, estimated_membership)\n",
    "    avg_mu_error_easy, median_mu_error_easy = performance_mu_summary(easy_axioms_test, easy_mu_test, estimated_membership)\n",
    "    avg_mu_error_hard, median_mu_error_hard = performance_mu_summary(hard_axioms_test, hard_mu_test, estimated_membership)\n",
    "\n",
    "    estimated_poss = map(lambda p: poss(p, estimated_membership), paired_axioms_test)\n",
    "    actual_poss = map(lambda (muphi, munotphi): muphi-munotphi, paired_mu_test)\n",
    "    avg_poss_error, median_poss_error = performance_poss_summary(estimated_poss, actual_poss)\n",
    "\n",
    "    estimated_easy_poss = map(lambda p: poss(p, estimated_membership), paired_easy_axioms_test)\n",
    "    actual_easy_poss = map(lambda (muphi, munotphi): muphi-munotphi, paired_easy_mu_test)\n",
    "    avg_poss_error_easy, median_poss_error_easy = performance_poss_summary(estimated_easy_poss, actual_easy_poss)\n",
    "\n",
    "    estimated_hard_poss = map(lambda p: poss(p, estimated_membership), paired_hard_axioms_test)\n",
    "    actual_hard_poss = map(lambda (muphi, munotphi): muphi-munotphi, paired_hard_mu_test)\n",
    "    avg_poss_error_hard, median_poss_error_hard = performance_poss_summary(estimated_hard_poss, actual_hard_poss)\n",
    "\n",
    "    perc_detected_easy = float(len([p for p in estimated_easy_poss if np.abs(p)<0.7]))/len(estimated_easy_poss)\n",
    "    perc_detected_hard = float(len([p for p in estimated_hard_poss if np.abs(p)<0.7]))/len(estimated_hard_poss)\n",
    "\n",
    "    return (train_error,\n",
    "           avg_mu_error, median_mu_error,\n",
    "           avg_mu_error_easy, median_mu_error_easy,\n",
    "           avg_mu_error_hard, median_mu_error_hard,\n",
    "           avg_poss_error, median_poss_error,\n",
    "           avg_poss_error_easy, median_poss_error_easy,\n",
    "           avg_poss_error_hard, median_poss_error_hard,\n",
    "           perc_detected_easy, perc_detected_hard)"
   ]
  },
  {
   "cell_type": "code",
   "execution_count": 62,
   "metadata": {
    "collapsed": false
   },
   "outputs": [],
   "source": [
    "results = [experiment(CrispFuzzifier()) for _ in range(10)]"
   ]
  },
  {
   "cell_type": "code",
   "execution_count": 63,
   "metadata": {
    "collapsed": true
   },
   "outputs": [],
   "source": [
    "import pandas as pd\n",
    "\n",
    "rdf = pd.DataFrame(results,\n",
    "                   columns=('$\\mu$ train err', '$\\mu$ avg test err', '$\\mu$ median err',\n",
    "                            '$\\mu$ avg test err (easy)', '$\\mu$ median err (easy)',\n",
    "                            '$\\mu$ avg test err (hard)', '$\\mu$ median err (hard)',\n",
    "                            '$\\pi$ avg test err', '$\\pi$ median err',\n",
    "                            '$\\pi$ avg test err (easy)', '$\\pi$ median err (easy)',\n",
    "                            '$\\pi$ avg test err (hard)', '$\\pi$ median err (hard)',\n",
    "                            '% outlier detected (easy)', '% outlier detected (hard)'))"
   ]
  },
  {
   "cell_type": "code",
   "execution_count": 60,
   "metadata": {
    "collapsed": false
   },
   "outputs": [
    {
     "data": {
      "text/html": [
       "<div>\n",
       "<table border=\"1\" class=\"dataframe\">\n",
       "  <thead>\n",
       "    <tr style=\"text-align: right;\">\n",
       "      <th></th>\n",
       "      <th>$\\mu$ train err</th>\n",
       "      <th>$\\mu$ avg test err</th>\n",
       "      <th>$\\mu$ median err</th>\n",
       "      <th>$\\mu$ avg test err (easy)</th>\n",
       "      <th>$\\mu$ median err (easy)</th>\n",
       "      <th>$\\mu$ avg test err (hard)</th>\n",
       "      <th>$\\mu$ median err (hard)</th>\n",
       "      <th>$\\pi$ avg test err</th>\n",
       "      <th>$\\pi$ median err</th>\n",
       "      <th>$\\pi$ avg test err (easy)</th>\n",
       "      <th>$\\pi$ median err (easy)</th>\n",
       "      <th>$\\pi$ avg test err (hard)</th>\n",
       "      <th>$\\pi$ median err (hard)</th>\n",
       "      <th>% outlier detected (easy)</th>\n",
       "      <th>% outlier detected (hard)</th>\n",
       "    </tr>\n",
       "  </thead>\n",
       "  <tbody>\n",
       "    <tr>\n",
       "      <th>0</th>\n",
       "      <td>0.150251</td>\n",
       "      <td>0.134991</td>\n",
       "      <td>0.000000e+00</td>\n",
       "      <td>0.110994</td>\n",
       "      <td>0.0</td>\n",
       "      <td>0.980903</td>\n",
       "      <td>1.000000</td>\n",
       "      <td>0.332401</td>\n",
       "      <td>0.000767</td>\n",
       "      <td>0.230549</td>\n",
       "      <td>0.000484</td>\n",
       "      <td>3.922686</td>\n",
       "      <td>3.959329</td>\n",
       "      <td>0.035461</td>\n",
       "      <td>0.0</td>\n",
       "    </tr>\n",
       "    <tr>\n",
       "      <th>1</th>\n",
       "      <td>0.153361</td>\n",
       "      <td>0.148355</td>\n",
       "      <td>0.000000e+00</td>\n",
       "      <td>0.124538</td>\n",
       "      <td>0.0</td>\n",
       "      <td>0.987905</td>\n",
       "      <td>0.997480</td>\n",
       "      <td>0.375894</td>\n",
       "      <td>0.001057</td>\n",
       "      <td>0.274462</td>\n",
       "      <td>0.000977</td>\n",
       "      <td>3.951379</td>\n",
       "      <td>3.955947</td>\n",
       "      <td>0.028369</td>\n",
       "      <td>0.0</td>\n",
       "    </tr>\n",
       "    <tr>\n",
       "      <th>2</th>\n",
       "      <td>0.149437</td>\n",
       "      <td>0.163969</td>\n",
       "      <td>4.141600e-21</td>\n",
       "      <td>0.145339</td>\n",
       "      <td>0.0</td>\n",
       "      <td>0.820688</td>\n",
       "      <td>1.000000</td>\n",
       "      <td>0.388933</td>\n",
       "      <td>0.001057</td>\n",
       "      <td>0.309861</td>\n",
       "      <td>0.001008</td>\n",
       "      <td>3.176222</td>\n",
       "      <td>3.223251</td>\n",
       "      <td>0.021277</td>\n",
       "      <td>0.0</td>\n",
       "    </tr>\n",
       "    <tr>\n",
       "      <th>3</th>\n",
       "      <td>0.144962</td>\n",
       "      <td>0.142245</td>\n",
       "      <td>0.000000e+00</td>\n",
       "      <td>0.118013</td>\n",
       "      <td>0.0</td>\n",
       "      <td>0.996436</td>\n",
       "      <td>1.000000</td>\n",
       "      <td>0.353343</td>\n",
       "      <td>0.000776</td>\n",
       "      <td>0.250297</td>\n",
       "      <td>0.000753</td>\n",
       "      <td>3.985714</td>\n",
       "      <td>3.991894</td>\n",
       "      <td>0.014184</td>\n",
       "      <td>0.0</td>\n",
       "    </tr>\n",
       "    <tr>\n",
       "      <th>4</th>\n",
       "      <td>0.142198</td>\n",
       "      <td>0.135090</td>\n",
       "      <td>0.000000e+00</td>\n",
       "      <td>0.116420</td>\n",
       "      <td>0.0</td>\n",
       "      <td>0.793204</td>\n",
       "      <td>0.989793</td>\n",
       "      <td>0.318492</td>\n",
       "      <td>0.000767</td>\n",
       "      <td>0.241224</td>\n",
       "      <td>0.000761</td>\n",
       "      <td>3.042196</td>\n",
       "      <td>3.098772</td>\n",
       "      <td>0.014184</td>\n",
       "      <td>0.0</td>\n",
       "    </tr>\n",
       "    <tr>\n",
       "      <th>5</th>\n",
       "      <td>0.146238</td>\n",
       "      <td>0.137166</td>\n",
       "      <td>0.000000e+00</td>\n",
       "      <td>0.113385</td>\n",
       "      <td>0.0</td>\n",
       "      <td>0.975446</td>\n",
       "      <td>1.000000</td>\n",
       "      <td>0.344000</td>\n",
       "      <td>0.000311</td>\n",
       "      <td>0.243106</td>\n",
       "      <td>0.000207</td>\n",
       "      <td>3.900521</td>\n",
       "      <td>3.915000</td>\n",
       "      <td>0.021277</td>\n",
       "      <td>0.0</td>\n",
       "    </tr>\n",
       "    <tr>\n",
       "      <th>6</th>\n",
       "      <td>0.142737</td>\n",
       "      <td>0.151099</td>\n",
       "      <td>0.000000e+00</td>\n",
       "      <td>0.132789</td>\n",
       "      <td>0.0</td>\n",
       "      <td>0.796538</td>\n",
       "      <td>0.928891</td>\n",
       "      <td>0.356189</td>\n",
       "      <td>0.001058</td>\n",
       "      <td>0.278631</td>\n",
       "      <td>0.001043</td>\n",
       "      <td>3.090111</td>\n",
       "      <td>3.195973</td>\n",
       "      <td>0.028369</td>\n",
       "      <td>0.0</td>\n",
       "    </tr>\n",
       "    <tr>\n",
       "      <th>7</th>\n",
       "      <td>0.150890</td>\n",
       "      <td>0.122104</td>\n",
       "      <td>0.000000e+00</td>\n",
       "      <td>0.099801</td>\n",
       "      <td>0.0</td>\n",
       "      <td>0.908309</td>\n",
       "      <td>0.998469</td>\n",
       "      <td>0.311269</td>\n",
       "      <td>0.000825</td>\n",
       "      <td>0.217953</td>\n",
       "      <td>0.000768</td>\n",
       "      <td>3.600659</td>\n",
       "      <td>3.848611</td>\n",
       "      <td>0.049645</td>\n",
       "      <td>0.0</td>\n",
       "    </tr>\n",
       "    <tr>\n",
       "      <th>8</th>\n",
       "      <td>0.145761</td>\n",
       "      <td>0.118377</td>\n",
       "      <td>0.000000e+00</td>\n",
       "      <td>0.096707</td>\n",
       "      <td>0.0</td>\n",
       "      <td>0.882266</td>\n",
       "      <td>0.981285</td>\n",
       "      <td>0.297432</td>\n",
       "      <td>0.000761</td>\n",
       "      <td>0.207084</td>\n",
       "      <td>0.000423</td>\n",
       "      <td>3.482187</td>\n",
       "      <td>3.758265</td>\n",
       "      <td>0.014184</td>\n",
       "      <td>0.0</td>\n",
       "    </tr>\n",
       "    <tr>\n",
       "      <th>9</th>\n",
       "      <td>0.146986</td>\n",
       "      <td>0.173723</td>\n",
       "      <td>4.050220e-23</td>\n",
       "      <td>0.153400</td>\n",
       "      <td>0.0</td>\n",
       "      <td>0.890107</td>\n",
       "      <td>1.000000</td>\n",
       "      <td>0.387960</td>\n",
       "      <td>0.001060</td>\n",
       "      <td>0.300363</td>\n",
       "      <td>0.001012</td>\n",
       "      <td>3.475748</td>\n",
       "      <td>3.945410</td>\n",
       "      <td>0.021277</td>\n",
       "      <td>0.0</td>\n",
       "    </tr>\n",
       "  </tbody>\n",
       "</table>\n",
       "</div>"
      ],
      "text/plain": [
       "   $\\mu$ train err  $\\mu$ avg test err  $\\mu$ median err  \\\n",
       "0         0.150251            0.134991      0.000000e+00   \n",
       "1         0.153361            0.148355      0.000000e+00   \n",
       "2         0.149437            0.163969      4.141600e-21   \n",
       "3         0.144962            0.142245      0.000000e+00   \n",
       "4         0.142198            0.135090      0.000000e+00   \n",
       "5         0.146238            0.137166      0.000000e+00   \n",
       "6         0.142737            0.151099      0.000000e+00   \n",
       "7         0.150890            0.122104      0.000000e+00   \n",
       "8         0.145761            0.118377      0.000000e+00   \n",
       "9         0.146986            0.173723      4.050220e-23   \n",
       "\n",
       "   $\\mu$ avg test err (easy)  $\\mu$ median err (easy)  \\\n",
       "0                   0.110994                      0.0   \n",
       "1                   0.124538                      0.0   \n",
       "2                   0.145339                      0.0   \n",
       "3                   0.118013                      0.0   \n",
       "4                   0.116420                      0.0   \n",
       "5                   0.113385                      0.0   \n",
       "6                   0.132789                      0.0   \n",
       "7                   0.099801                      0.0   \n",
       "8                   0.096707                      0.0   \n",
       "9                   0.153400                      0.0   \n",
       "\n",
       "   $\\mu$ avg test err (hard)  $\\mu$ median err (hard)  $\\pi$ avg test err  \\\n",
       "0                   0.980903                 1.000000            0.332401   \n",
       "1                   0.987905                 0.997480            0.375894   \n",
       "2                   0.820688                 1.000000            0.388933   \n",
       "3                   0.996436                 1.000000            0.353343   \n",
       "4                   0.793204                 0.989793            0.318492   \n",
       "5                   0.975446                 1.000000            0.344000   \n",
       "6                   0.796538                 0.928891            0.356189   \n",
       "7                   0.908309                 0.998469            0.311269   \n",
       "8                   0.882266                 0.981285            0.297432   \n",
       "9                   0.890107                 1.000000            0.387960   \n",
       "\n",
       "   $\\pi$ median err  $\\pi$ avg test err (easy)  $\\pi$ median err (easy)  \\\n",
       "0          0.000767                   0.230549                 0.000484   \n",
       "1          0.001057                   0.274462                 0.000977   \n",
       "2          0.001057                   0.309861                 0.001008   \n",
       "3          0.000776                   0.250297                 0.000753   \n",
       "4          0.000767                   0.241224                 0.000761   \n",
       "5          0.000311                   0.243106                 0.000207   \n",
       "6          0.001058                   0.278631                 0.001043   \n",
       "7          0.000825                   0.217953                 0.000768   \n",
       "8          0.000761                   0.207084                 0.000423   \n",
       "9          0.001060                   0.300363                 0.001012   \n",
       "\n",
       "   $\\pi$ avg test err (hard)  $\\pi$ median err (hard)  \\\n",
       "0                   3.922686                 3.959329   \n",
       "1                   3.951379                 3.955947   \n",
       "2                   3.176222                 3.223251   \n",
       "3                   3.985714                 3.991894   \n",
       "4                   3.042196                 3.098772   \n",
       "5                   3.900521                 3.915000   \n",
       "6                   3.090111                 3.195973   \n",
       "7                   3.600659                 3.848611   \n",
       "8                   3.482187                 3.758265   \n",
       "9                   3.475748                 3.945410   \n",
       "\n",
       "   % outlier detected (easy)  % outlier detected (hard)  \n",
       "0                   0.035461                        0.0  \n",
       "1                   0.028369                        0.0  \n",
       "2                   0.021277                        0.0  \n",
       "3                   0.014184                        0.0  \n",
       "4                   0.014184                        0.0  \n",
       "5                   0.021277                        0.0  \n",
       "6                   0.028369                        0.0  \n",
       "7                   0.049645                        0.0  \n",
       "8                   0.014184                        0.0  \n",
       "9                   0.021277                        0.0  "
      ]
     },
     "execution_count": 60,
     "metadata": {},
     "output_type": "execute_result"
    }
   ],
   "source": [
    "rdf"
   ]
  },
  {
   "cell_type": "code",
   "execution_count": 66,
   "metadata": {
    "collapsed": false
   },
   "outputs": [
    {
     "data": {
      "text/plain": [
       "$\\mu$ train err              0.148154\n",
       "$\\mu$ avg test err           0.149494\n",
       "$\\mu$ median err             0.000000\n",
       "$\\mu$ avg test err (easy)    0.128425\n",
       "$\\mu$ median err (easy)      0.000000\n",
       "$\\mu$ avg test err (hard)    0.892201\n",
       "$\\mu$ median err (hard)      0.999442\n",
       "$\\pi$ avg test err           0.360963\n",
       "$\\pi$ median err             0.000903\n",
       "$\\pi$ avg test err (easy)    0.271678\n",
       "$\\pi$ median err (easy)      0.000801\n",
       "$\\pi$ avg test err (hard)    3.508273\n",
       "$\\pi$ median err (hard)      3.719257\n",
       "% outlier detected (easy)    0.024113\n",
       "% outlier detected (hard)    0.000000\n",
       "dtype: float64"
      ]
     },
     "execution_count": 66,
     "metadata": {},
     "output_type": "execute_result"
    }
   ],
   "source": [
    "rdf.mean()"
   ]
  },
  {
   "cell_type": "code",
   "execution_count": 77,
   "metadata": {
    "collapsed": false
   },
   "outputs": [
    {
     "data": {
      "text/html": [
       "<div>\n",
       "<table border=\"1\" class=\"dataframe\">\n",
       "  <thead>\n",
       "    <tr style=\"text-align: right;\">\n",
       "      <th></th>\n",
       "      <th>$\\mu$ train err</th>\n",
       "      <th>$\\mu$ avg test err</th>\n",
       "      <th>$\\mu$ median err</th>\n",
       "      <th>$\\mu$ avg test err (easy)</th>\n",
       "      <th>$\\mu$ median err (easy)</th>\n",
       "      <th>$\\mu$ avg test err (hard)</th>\n",
       "      <th>$\\mu$ median err (hard)</th>\n",
       "      <th>$\\pi$ avg test err</th>\n",
       "      <th>$\\pi$ median err</th>\n",
       "      <th>$\\pi$ avg test err (easy)</th>\n",
       "      <th>$\\pi$ median err (easy)</th>\n",
       "      <th>$\\pi$ avg test err (hard)</th>\n",
       "      <th>$\\pi$ median err (hard)</th>\n",
       "      <th>% outlier detected (easy)</th>\n",
       "      <th>% outlier detected (hard)</th>\n",
       "    </tr>\n",
       "  </thead>\n",
       "  <tbody>\n",
       "    <tr>\n",
       "      <th>0</th>\n",
       "      <td>0.108018</td>\n",
       "      <td>0.118921</td>\n",
       "      <td>0.000499</td>\n",
       "      <td>0.106949</td>\n",
       "      <td>0.000394</td>\n",
       "      <td>0.540930</td>\n",
       "      <td>0.502574</td>\n",
       "      <td>0.274899</td>\n",
       "      <td>0.066718</td>\n",
       "      <td>0.224710</td>\n",
       "      <td>0.048505</td>\n",
       "      <td>2.044051</td>\n",
       "      <td>2.216145</td>\n",
       "      <td>0.312057</td>\n",
       "      <td>0.75</td>\n",
       "    </tr>\n",
       "    <tr>\n",
       "      <th>1</th>\n",
       "      <td>0.115886</td>\n",
       "      <td>0.094404</td>\n",
       "      <td>0.000344</td>\n",
       "      <td>0.081196</td>\n",
       "      <td>0.000179</td>\n",
       "      <td>0.559979</td>\n",
       "      <td>0.436660</td>\n",
       "      <td>0.223654</td>\n",
       "      <td>0.038321</td>\n",
       "      <td>0.170121</td>\n",
       "      <td>0.007763</td>\n",
       "      <td>2.110685</td>\n",
       "      <td>2.268020</td>\n",
       "      <td>0.347518</td>\n",
       "      <td>1.00</td>\n",
       "    </tr>\n",
       "    <tr>\n",
       "      <th>2</th>\n",
       "      <td>0.113484</td>\n",
       "      <td>0.114498</td>\n",
       "      <td>0.000481</td>\n",
       "      <td>0.099638</td>\n",
       "      <td>0.000360</td>\n",
       "      <td>0.638306</td>\n",
       "      <td>0.664643</td>\n",
       "      <td>0.265434</td>\n",
       "      <td>0.052635</td>\n",
       "      <td>0.203282</td>\n",
       "      <td>0.046341</td>\n",
       "      <td>2.456277</td>\n",
       "      <td>2.666104</td>\n",
       "      <td>0.361702</td>\n",
       "      <td>0.75</td>\n",
       "    </tr>\n",
       "    <tr>\n",
       "      <th>3</th>\n",
       "      <td>0.111210</td>\n",
       "      <td>0.121988</td>\n",
       "      <td>0.000680</td>\n",
       "      <td>0.105345</td>\n",
       "      <td>0.000464</td>\n",
       "      <td>0.708657</td>\n",
       "      <td>0.909218</td>\n",
       "      <td>0.281526</td>\n",
       "      <td>0.066425</td>\n",
       "      <td>0.216769</td>\n",
       "      <td>0.065204</td>\n",
       "      <td>2.564219</td>\n",
       "      <td>2.787552</td>\n",
       "      <td>0.361702</td>\n",
       "      <td>0.50</td>\n",
       "    </tr>\n",
       "    <tr>\n",
       "      <th>4</th>\n",
       "      <td>0.109536</td>\n",
       "      <td>0.117095</td>\n",
       "      <td>0.000290</td>\n",
       "      <td>0.101015</td>\n",
       "      <td>0.000120</td>\n",
       "      <td>0.683914</td>\n",
       "      <td>0.768605</td>\n",
       "      <td>0.273579</td>\n",
       "      <td>0.073795</td>\n",
       "      <td>0.211169</td>\n",
       "      <td>0.071436</td>\n",
       "      <td>2.473528</td>\n",
       "      <td>2.829068</td>\n",
       "      <td>0.390071</td>\n",
       "      <td>0.50</td>\n",
       "    </tr>\n",
       "    <tr>\n",
       "      <th>5</th>\n",
       "      <td>0.110299</td>\n",
       "      <td>0.115893</td>\n",
       "      <td>0.000392</td>\n",
       "      <td>0.102610</td>\n",
       "      <td>0.000253</td>\n",
       "      <td>0.584103</td>\n",
       "      <td>0.491040</td>\n",
       "      <td>0.268349</td>\n",
       "      <td>0.049275</td>\n",
       "      <td>0.212246</td>\n",
       "      <td>0.049275</td>\n",
       "      <td>2.245963</td>\n",
       "      <td>2.647434</td>\n",
       "      <td>0.361702</td>\n",
       "      <td>0.75</td>\n",
       "    </tr>\n",
       "    <tr>\n",
       "      <th>6</th>\n",
       "      <td>0.110328</td>\n",
       "      <td>0.125843</td>\n",
       "      <td>0.000438</td>\n",
       "      <td>0.109918</td>\n",
       "      <td>0.000345</td>\n",
       "      <td>0.687201</td>\n",
       "      <td>0.941349</td>\n",
       "      <td>0.286522</td>\n",
       "      <td>0.054965</td>\n",
       "      <td>0.227920</td>\n",
       "      <td>0.052200</td>\n",
       "      <td>2.352255</td>\n",
       "      <td>2.252731</td>\n",
       "      <td>0.347518</td>\n",
       "      <td>0.50</td>\n",
       "    </tr>\n",
       "    <tr>\n",
       "      <th>7</th>\n",
       "      <td>0.114124</td>\n",
       "      <td>0.117037</td>\n",
       "      <td>0.000428</td>\n",
       "      <td>0.103067</td>\n",
       "      <td>0.000205</td>\n",
       "      <td>0.609497</td>\n",
       "      <td>0.671772</td>\n",
       "      <td>0.265749</td>\n",
       "      <td>0.052671</td>\n",
       "      <td>0.211824</td>\n",
       "      <td>0.046280</td>\n",
       "      <td>2.166625</td>\n",
       "      <td>1.898607</td>\n",
       "      <td>0.347518</td>\n",
       "      <td>0.75</td>\n",
       "    </tr>\n",
       "    <tr>\n",
       "      <th>8</th>\n",
       "      <td>0.116900</td>\n",
       "      <td>0.100595</td>\n",
       "      <td>0.000511</td>\n",
       "      <td>0.084146</td>\n",
       "      <td>0.000312</td>\n",
       "      <td>0.680453</td>\n",
       "      <td>0.865621</td>\n",
       "      <td>0.238040</td>\n",
       "      <td>0.048889</td>\n",
       "      <td>0.175597</td>\n",
       "      <td>0.041277</td>\n",
       "      <td>2.439143</td>\n",
       "      <td>2.491032</td>\n",
       "      <td>0.347518</td>\n",
       "      <td>0.50</td>\n",
       "    </tr>\n",
       "    <tr>\n",
       "      <th>9</th>\n",
       "      <td>0.108634</td>\n",
       "      <td>0.119974</td>\n",
       "      <td>0.000612</td>\n",
       "      <td>0.102491</td>\n",
       "      <td>0.000488</td>\n",
       "      <td>0.736241</td>\n",
       "      <td>0.896671</td>\n",
       "      <td>0.297056</td>\n",
       "      <td>0.077493</td>\n",
       "      <td>0.222829</td>\n",
       "      <td>0.076877</td>\n",
       "      <td>2.913556</td>\n",
       "      <td>3.188419</td>\n",
       "      <td>0.375887</td>\n",
       "      <td>0.50</td>\n",
       "    </tr>\n",
       "  </tbody>\n",
       "</table>\n",
       "</div>"
      ],
      "text/plain": [
       "   $\\mu$ train err  $\\mu$ avg test err  $\\mu$ median err  \\\n",
       "0         0.108018            0.118921          0.000499   \n",
       "1         0.115886            0.094404          0.000344   \n",
       "2         0.113484            0.114498          0.000481   \n",
       "3         0.111210            0.121988          0.000680   \n",
       "4         0.109536            0.117095          0.000290   \n",
       "5         0.110299            0.115893          0.000392   \n",
       "6         0.110328            0.125843          0.000438   \n",
       "7         0.114124            0.117037          0.000428   \n",
       "8         0.116900            0.100595          0.000511   \n",
       "9         0.108634            0.119974          0.000612   \n",
       "\n",
       "   $\\mu$ avg test err (easy)  $\\mu$ median err (easy)  \\\n",
       "0                   0.106949                 0.000394   \n",
       "1                   0.081196                 0.000179   \n",
       "2                   0.099638                 0.000360   \n",
       "3                   0.105345                 0.000464   \n",
       "4                   0.101015                 0.000120   \n",
       "5                   0.102610                 0.000253   \n",
       "6                   0.109918                 0.000345   \n",
       "7                   0.103067                 0.000205   \n",
       "8                   0.084146                 0.000312   \n",
       "9                   0.102491                 0.000488   \n",
       "\n",
       "   $\\mu$ avg test err (hard)  $\\mu$ median err (hard)  $\\pi$ avg test err  \\\n",
       "0                   0.540930                 0.502574            0.274899   \n",
       "1                   0.559979                 0.436660            0.223654   \n",
       "2                   0.638306                 0.664643            0.265434   \n",
       "3                   0.708657                 0.909218            0.281526   \n",
       "4                   0.683914                 0.768605            0.273579   \n",
       "5                   0.584103                 0.491040            0.268349   \n",
       "6                   0.687201                 0.941349            0.286522   \n",
       "7                   0.609497                 0.671772            0.265749   \n",
       "8                   0.680453                 0.865621            0.238040   \n",
       "9                   0.736241                 0.896671            0.297056   \n",
       "\n",
       "   $\\pi$ median err  $\\pi$ avg test err (easy)  $\\pi$ median err (easy)  \\\n",
       "0          0.066718                   0.224710                 0.048505   \n",
       "1          0.038321                   0.170121                 0.007763   \n",
       "2          0.052635                   0.203282                 0.046341   \n",
       "3          0.066425                   0.216769                 0.065204   \n",
       "4          0.073795                   0.211169                 0.071436   \n",
       "5          0.049275                   0.212246                 0.049275   \n",
       "6          0.054965                   0.227920                 0.052200   \n",
       "7          0.052671                   0.211824                 0.046280   \n",
       "8          0.048889                   0.175597                 0.041277   \n",
       "9          0.077493                   0.222829                 0.076877   \n",
       "\n",
       "   $\\pi$ avg test err (hard)  $\\pi$ median err (hard)  \\\n",
       "0                   2.044051                 2.216145   \n",
       "1                   2.110685                 2.268020   \n",
       "2                   2.456277                 2.666104   \n",
       "3                   2.564219                 2.787552   \n",
       "4                   2.473528                 2.829068   \n",
       "5                   2.245963                 2.647434   \n",
       "6                   2.352255                 2.252731   \n",
       "7                   2.166625                 1.898607   \n",
       "8                   2.439143                 2.491032   \n",
       "9                   2.913556                 3.188419   \n",
       "\n",
       "   % outlier detected (easy)  % outlier detected (hard)  \n",
       "0                   0.312057                       0.75  \n",
       "1                   0.347518                       1.00  \n",
       "2                   0.361702                       0.75  \n",
       "3                   0.361702                       0.50  \n",
       "4                   0.390071                       0.50  \n",
       "5                   0.361702                       0.75  \n",
       "6                   0.347518                       0.50  \n",
       "7                   0.347518                       0.75  \n",
       "8                   0.347518                       0.50  \n",
       "9                   0.375887                       0.50  "
      ]
     },
     "execution_count": 77,
     "metadata": {},
     "output_type": "execute_result"
    }
   ],
   "source": [
    "from possibilearn.fuzzifiers import LinearFuzzifier\n",
    "\n",
    "results = [experiment(LinearFuzzifier()) for _ in range(10)]\n",
    "\n",
    "import pandas as pd\n",
    "\n",
    "rdf = pd.DataFrame(results,\n",
    "                   columns=('$\\mu$ train err', '$\\mu$ avg test err', '$\\mu$ median err',\n",
    "                            '$\\mu$ avg test err (easy)', '$\\mu$ median err (easy)',\n",
    "                            '$\\mu$ avg test err (hard)', '$\\mu$ median err (hard)',\n",
    "                            '$\\pi$ avg test err', '$\\pi$ median err',\n",
    "                            '$\\pi$ avg test err (easy)', '$\\pi$ median err (easy)',\n",
    "                            '$\\pi$ avg test err (hard)', '$\\pi$ median err (hard)',\n",
    "                            '% outlier detected (easy)', '% outlier detected (hard)'))\n",
    "rdf"
   ]
  },
  {
   "cell_type": "code",
   "execution_count": 78,
   "metadata": {
    "collapsed": false
   },
   "outputs": [
    {
     "data": {
      "text/plain": [
       "$\\mu$ train err              0.111842\n",
       "$\\mu$ avg test err           0.114625\n",
       "$\\mu$ median err             0.000467\n",
       "$\\mu$ avg test err (easy)    0.099637\n",
       "$\\mu$ median err (easy)      0.000312\n",
       "$\\mu$ avg test err (hard)    0.642928\n",
       "$\\mu$ median err (hard)      0.714815\n",
       "$\\pi$ avg test err           0.267481\n",
       "$\\pi$ median err             0.058119\n",
       "$\\pi$ avg test err (easy)    0.207647\n",
       "$\\pi$ median err (easy)      0.050516\n",
       "$\\pi$ avg test err (hard)    2.376630\n",
       "$\\pi$ median err (hard)      2.524511\n",
       "% outlier detected (easy)    0.355319\n",
       "% outlier detected (hard)    0.650000\n",
       "dtype: float64"
      ]
     },
     "execution_count": 78,
     "metadata": {},
     "output_type": "execute_result"
    }
   ],
   "source": [
    "rdf.mean()"
   ]
  },
  {
   "cell_type": "code",
   "execution_count": 126,
   "metadata": {
    "collapsed": true
   },
   "outputs": [],
   "source": [
    "from possibilearn.fuzzifiers import ExponentialFuzzifier\n",
    "def exp_parameter_vs_detected(alpha):\n",
    "    result = [experiment(ExponentialFuzzifier(alpha))[-2:]\n",
    "              for _ in range(10)]\n",
    "    return (alpha, np.array(result).mean(axis=0))"
   ]
  },
  {
   "cell_type": "code",
   "execution_count": 127,
   "metadata": {
    "collapsed": false
   },
   "outputs": [],
   "source": [
    "from tqdm import tqdm\n",
    "\n",
    "alphas = np.hstack((np.array((0.01, 0.02, 0.05, 0.075)), np.arange(0.1, 1, 0.1)))\n",
    "\n",
    "result = [exp_parameter_vs_detected(alpha)\n",
    "          for alpha in tqdm(alphas)]"
   ]
  },
  {
   "cell_type": "code",
   "execution_count": 128,
   "metadata": {
    "collapsed": false
   },
   "outputs": [
    {
     "data": {
      "image/png": "[encoded data removed]",
      "text/plain": [
       "<matplotlib.figure.Figure at 0x122f49c90>"
      ]
     },
     "metadata": {},
     "output_type": "display_data"
    }
   ],
   "source": [
    "%matplotlib inline\n",
    "\n",
    "import matplotlib.pylab as plt\n",
    "\n",
    "x_roc = np.array([0] + [r[1][0] for r in result])\n",
    "y_roc = np.array([0] + [r[1][1] for r in result])\n",
    "\n",
    "_ = plt.plot(x_roc, y_roc)"
   ]
  },
  {
   "cell_type": "code",
   "execution_count": 129,
   "metadata": {
    "collapsed": true
   },
   "outputs": [],
   "source": [
    "def area_under_roc(x, y):\n",
    "    x_delta = x[1:] - x[:-1]\n",
    "    y_delta = y[1:] - y[:-1]\n",
    "    rect_bases = 1 - x[1:]\n",
    "    \n",
    "    return sum(x_delta*y_delta)/2 + sum(y_delta*rect_bases)"
   ]
  },
  {
   "cell_type": "code",
   "execution_count": 130,
   "metadata": {
    "collapsed": false
   },
   "outputs": [
    {
     "data": {
      "text/plain": [
       "0.58540780141843962"
      ]
     },
     "execution_count": 130,
     "metadata": {},
     "output_type": "execute_result"
    }
   ],
   "source": [
    "area_under_roc(x_roc, y_roc)"
   ]
  },
  {
   "cell_type": "code",
   "execution_count": 131,
   "metadata": {
    "collapsed": false
   },
   "outputs": [
    {
     "data": {
      "image/png": "[encoded data removed]",
      "text/plain": [
       "<matplotlib.figure.Figure at 0x122ea0a90>"
      ]
     },
     "metadata": {},
     "output_type": "display_data"
    }
   ],
   "source": [
    "_ = plt.plot([r[0] for r in result], [r[1][0] for r in result], 'b')\n",
    "_ = plt.plot([r[0] for r in result], [r[1][1] for r in result], 'g')\n",
    "\n",
    "# nota: in blu gli easy falsamente dati come hard, in verde gli hard\n",
    "# correttamente beccati come tali"
   ]
  },
  {
   "cell_type": "code",
   "execution_count": 139,
   "metadata": {
    "collapsed": false
   },
   "outputs": [],
   "source": [
    "metrics = lambda v: (np.min(v), np.mean(v), np.median(v), np.max(v))"
   ]
  },
  {
   "cell_type": "code",
   "execution_count": 153,
   "metadata": {
    "collapsed": false,
    "scrolled": false
   },
   "outputs": [],
   "source": [
    "easy_hard_distance = pd.DataFrame(map(metrics,\n",
    "                [[k.compute(e, h) for h in hard_axiom_indices]\n",
    "                           for e in easy_axiom_indices]),\n",
    "                columns=('min', 'mean', 'median', 'max'))"
   ]
  },
  {
   "cell_type": "code",
   "execution_count": 155,
   "metadata": {
    "collapsed": false
   },
   "outputs": [
    {
     "data": {
      "image/png": "[encoded data removed]",
      "text/plain": [
       "<matplotlib.figure.Figure at 0x11fbc0b10>"
      ]
     },
     "metadata": {},
     "output_type": "display_data"
    },
    {
     "data": {
      "image/png": "[encoded data removed]",
      "text/plain": [
       "<matplotlib.figure.Figure at 0x11fea4d10>"
      ]
     },
     "metadata": {},
     "output_type": "display_data"
    },
    {
     "data": {
      "image/png": "[encoded data removed]",
      "text/plain": [
       "<matplotlib.figure.Figure at 0x1214add10>"
      ]
     },
     "metadata": {},
     "output_type": "display_data"
    },
    {
     "data": {
      "image/png": "[encoded data removed]",
      "text/plain": [
       "<matplotlib.figure.Figure at 0x121445cd0>"
      ]
     },
     "metadata": {},
     "output_type": "display_data"
    }
   ],
   "source": [
    "for s in easy_hard_distance:\n",
    "    easy_hard_distance[s].hist()\n",
    "    plt.title(s)\n",
    "    plt.show()"
   ]
  },
  {
   "cell_type": "code",
   "execution_count": 156,
   "metadata": {
    "collapsed": false
   },
   "outputs": [],
   "source": [
    "hard_hard_distance = pd.DataFrame(map(metrics,\n",
    "                    [[k.compute(h1, h2) for h1 in hard_axiom_indices]\n",
    "                     for h2 in hard_axiom_indices if h2!=h1]),\n",
    "                    columns=('min', 'mean', 'median', 'max'))"
   ]
  },
  {
   "cell_type": "code",
   "execution_count": 157,
   "metadata": {
    "collapsed": false
   },
   "outputs": [
    {
     "data": {
      "image/png": "[encoded data removed]",
      "text/plain": [
       "<matplotlib.figure.Figure at 0x12164ac90>"
      ]
     },
     "metadata": {},
     "output_type": "display_data"
    },
    {
     "data": {
      "image/png": "[encoded data removed]",
      "text/plain": [
       "<matplotlib.figure.Figure at 0x12133d110>"
      ]
     },
     "metadata": {},
     "output_type": "display_data"
    },
    {
     "data": {
      "image/png": "[encoded data removed]",
      "text/plain": [
       "<matplotlib.figure.Figure at 0x12157cd50>"
      ]
     },
     "metadata": {},
     "output_type": "display_data"
    },
    {
     "data": {
      "image/png": "[encoded data removed]",
      "text/plain": [
       "<matplotlib.figure.Figure at 0x12296ec90>"
      ]
     },
     "metadata": {},
     "output_type": "display_data"
    }
   ],
   "source": [
    "for s in hard_hard_distance:\n",
    "    hard_hard_distance[s].hist()\n",
    "    plt.title(s)\n",
    "    plt.show()"
   ]
  },
  {
   "cell_type": "code",
   "execution_count": 170,
   "metadata": {
    "collapsed": false
   },
   "outputs": [
    {
     "data": {
      "image/png": "[encoded data removed]",
      "text/plain": [
       "<matplotlib.figure.Figure at 0x1214ad4d0>"
      ]
     },
     "metadata": {},
     "output_type": "display_data"
    }
   ],
   "source": [
    "plt.figure(figsize=(8, 12))\n",
    "\n",
    "for i, s in enumerate(easy_hard_distance):\n",
    "    plt.subplot(4, 2, 2*i+1)\n",
    "    easy_hard_distance[s].hist(color='r')\n",
    "    plt.title('{}, easy-hard'.format(s))\n",
    "    plt.xlim=((0,1))\n",
    "\n",
    "for i, s in enumerate(hard_hard_distance):\n",
    "    plt.subplot(4, 2, 2*(i+1))\n",
    "    hard_hard_distance[s].hist()\n",
    "    plt.title('{}, hard-hard'.format(s))\n",
    "    plt.xlim=((0,1))"
   ]
  },
  {
   "cell_type": "code",
   "execution_count": 172,
   "metadata": {
    "collapsed": false
   },
   "outputs": [
    {
     "data": {
      "text/plain": [
       "[112,\n",
       " 113,\n",
       " 170,\n",
       " 171,\n",
       " 202,\n",
       " 203,\n",
       " 398,\n",
       " 399,\n",
       " 426,\n",
       " 427,\n",
       " 548,\n",
       " 549,\n",
       " 806,\n",
       " 807,\n",
       " 836,\n",
       " 837,\n",
       " 886,\n",
       " 887,\n",
       " 890,\n",
       " 891,\n",
       " 972,\n",
       " 973,\n",
       " 976,\n",
       " 977,\n",
       " 980,\n",
       " 981,\n",
       " 1006,\n",
       " 1007,\n",
       " 1016,\n",
       " 1017,\n",
       " 1028,\n",
       " 1029,\n",
       " 1232,\n",
       " 1233]"
      ]
     },
     "execution_count": 172,
     "metadata": {},
     "output_type": "execute_result"
    }
   ],
   "source": [
    "hard_axiom_indices"
   ]
  },
  {
   "cell_type": "code",
   "execution_count": null,
   "metadata": {
    "collapsed": true
   },
   "outputs": [],
   "source": []
  }
 ],
 "metadata": {
  "kernelspec": {
   "display_name": "Python 2",
   "language": "python",
   "name": "python2"
  },
  "language_info": {
   "codemirror_mode": {
    "name": "ipython",
    "version": 2
   },
   "file_extension": ".py",
   "mimetype": "text/x-python",
   "name": "python",
   "nbconvert_exporter": "python",
   "pygments_lexer": "ipython2",
   "version": "2.7.10"
  }
 },
 "nbformat": 4,
 "nbformat_minor": 0
}
