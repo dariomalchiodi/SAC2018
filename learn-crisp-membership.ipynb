{
 "cells": [
  {
   "cell_type": "markdown",
   "metadata": {},
   "source": [
    "## Data loading"
   ]
  },
  {
   "cell_type": "code",
   "execution_count": 1,
   "metadata": {
    "collapsed": false
   },
   "outputs": [
    {
     "name": "stdout",
     "output_type": "stream",
     "text": [
      "1444 data items\n"
     ]
    }
   ],
   "source": [
    "# Data format:\n",
    "#\n",
    "# n0, n1, ...\n",
    "# mu0, k00, k01, ..., k0n\n",
    "# ...\n",
    "# mun, kn0, kn1, ..., knn\n",
    "\n",
    "import csv\n",
    "import numpy as np\n",
    "\n",
    "#data_file_name = 'data/axioms-toy.csv'\n",
    "#data_file_name = 'data/data-tettamanzi-little.csv'\n",
    "data_file_name = 'data/data-tettamanzi-complete.csv'\n",
    "\n",
    "with open(data_file_name) as data_file:\n",
    "    data = np.array(list(csv.reader(data_file)))\n",
    "\n",
    "n = len(data) - 1\n",
    "\n",
    "print '%d data items' % n"
   ]
  },
  {
   "cell_type": "markdown",
   "metadata": {},
   "source": [
    "## Extract data names, membership values and Gram matrix"
   ]
  },
  {
   "cell_type": "code",
   "execution_count": 2,
   "metadata": {
    "collapsed": false
   },
   "outputs": [],
   "source": [
    "n = 1444\n",
    "\n",
    "names = np.array(data[0])[1:n+1]\n",
    "mu = np.array([float(row[0]) for row in data[1:n+1]])\n",
    "gram = np.array([[float(k.replace('NA', '0')) for k in row[1:n+1]] for row in data[1:n+1]])\n",
    "\n",
    "assert(len(names.shape) == 1)\n",
    "assert(len(mu.shape) == 1)\n",
    "assert(len(gram.shape) == 2)\n",
    "assert(names.shape[0] == gram.shape[0] == gram.shape[1] == mu.shape[0])"
   ]
  },
  {
   "cell_type": "markdown",
   "metadata": {},
   "source": [
    "## Compute adjustement in case of ill-conditioned Gram matrix"
   ]
  },
  {
   "cell_type": "code",
   "execution_count": 3,
   "metadata": {
    "collapsed": false
   },
   "outputs": [
    {
     "name": "stdout",
     "output_type": "stream",
     "text": [
      "non PSD matrix: diagonal adjusment of 292.405301431\n"
     ]
    }
   ],
   "source": [
    "eigvals = np.linalg.eigvals(gram)\n",
    "assert(sum([abs(e.imag) for e in eigvals]) < 1e-4)\n",
    "abs_neg_eigvals = [-l.real for l in eigvals if l < 0]\n",
    "adjustment = max(abs_neg_eigvals) if abs_neg_eigvals else 0\n",
    "if adjustment:\n",
    "    print('non PSD matrix: diagonal adjusment of {0}'.format(adjustment))"
   ]
  },
  {
   "cell_type": "markdown",
   "metadata": {},
   "source": [
    "   ## Membership and possibility learning through repeated hold-out   "
   ]
  },
  {
   "cell_type": "code",
   "execution_count": 1,
   "metadata": {
    "collapsed": true
   },
   "outputs": [],
   "source": [
    "from possibilearn import *\n",
    "from possibilearn.kernel import PrecomputedKernel\n",
    "\n",
    "import csv\n",
    "import matplotlib.pyplot as plt\n",
    "import gc\n",
    "\n",
    "def estimate_possibility(n, mu, g, cs, ks, num_holdouts, percentages, fuzzifier,\n",
    "                         verbose=False, crisp=False):\n",
    "    axiom_indices = range(n)\n",
    "    assert(len(axiom_indices)==len(mu)==n)\n",
    "\n",
    "    paired_axioms = [axiom_indices[i:i+2] for i in range(0, n, 2)]\n",
    "    paired_labels = [mu[i:i+2] for i in range(0, n, 2)]\n",
    "\n",
    "    metrics_membership_rmse = []\n",
    "    metrics_membership_median = []\n",
    "    metrics_membership_stdev = []\n",
    "\n",
    "    metrics_possibility_rmse = []\n",
    "    metrics_possibility_median = []\n",
    "    metrics_possibility_stdev = []\n",
    "\n",
    "    for h in range(num_holdouts):\n",
    "        (paired_values_train,\n",
    "         paired_values_validate,\n",
    "         paired_values_test,\n",
    "         paired_mu_train,\n",
    "         paired_mu_validate,\n",
    "         paired_mu_test) = split_indices(paired_axioms, paired_labels, percentages)\n",
    "\n",
    "        if verbose:\n",
    "            print 'holdout {} of {}'.format(h, num_holdouts)\n",
    "    \n",
    "        best_c, _, result = model_selection_holdout(paired_values_train,\n",
    "                                                    paired_mu_train,\n",
    "                                                    paired_values_validate,\n",
    "                                                    paired_mu_validate,\n",
    "                                                    cs, ks,\n",
    "                                                    sample_generator=g,\n",
    "                                                    log=True,\n",
    "                                                    adjustment=adjustment,\n",
    "                                                    fuzzifier=fuzzifier,\n",
    "                                                    verbose=verbose,\n",
    "                                                    crisp=crisp)\n",
    "        if best_c is None:\n",
    "            if verbose:\n",
    "                print 'in holdout {} optimization always failed!'.format(h)\n",
    "            continue\n",
    "    \n",
    "        if verbose:\n",
    "            print 'in holdout {} best C is {}'.format(h, best_c)\n",
    "        estimated_membership = result[0]\n",
    "    \n",
    "        # values and labels are still paired, we need to flatten them out\n",
    "        values_test = flatten(paired_values_test)\n",
    "        mu_test = flatten(paired_mu_test)\n",
    "\n",
    "        membership_square_err = [(estimated_membership(v) - m)**2 for v, m in zip(values_test, mu_test)]\n",
    "        membership_rmse = math.sqrt(sum(membership_square_err) / len(values_test))\n",
    "        metrics_membership_rmse.append(membership_rmse)\n",
    "    \n",
    "        membership_median = np.median(membership_square_err)\n",
    "        metrics_membership_median.append(membership_median)\n",
    "    \n",
    "        membership_stdev = np.std(membership_square_err)\n",
    "        metrics_membership_stdev.append(membership_stdev)\n",
    "    \n",
    "        estimated_mu = map(estimated_membership, values_test)\n",
    "        actual_possibility = [mfi - mnotfi for mfi, mnotfi in zip(mu_test[::2], mu_test[1::2])]\n",
    "        estimated_possibility = [mfi - mnotfi\n",
    "                                 for mfi, mnotfi in zip(estimated_mu[::2], estimated_mu[1::2])]\n",
    "    \n",
    "        possibility_square_err = [(actual - estimated)**2\n",
    "                              for actual, estimated in zip(actual_possibility, estimated_possibility)]\n",
    "        possibility_rmse = math.sqrt(sum(possibility_square_err) / len(possibility_square_err))\n",
    "        metrics_possibility_rmse.append(possibility_rmse)\n",
    "    \n",
    "        possibility_median = np.median(possibility_square_err)\n",
    "        metrics_possibility_median.append(possibility_median)\n",
    "    \n",
    "        possibility_stdev = np.std(possibility_square_err)\n",
    "        metrics_possibility_stdev.append(possibility_stdev)\n",
    "    \n",
    "        indices = ['-'.join(map(str, pair)) for pair in paired_values_test]\n",
    "\n",
    "        results = [(i, phi, notphi, max(phi, notphi), ephi, enotphi, max(ephi, enotphi), p, ep, (p - ep)**2)\n",
    "                   for i, phi, notphi, p, ephi, enotphi, ep in zip(indices, mu_test[::2], mu_test[1::2], actual_possibility,\n",
    "                                                            estimated_mu[::2], estimated_mu[1::2], estimated_possibility)]\n",
    "\n",
    "        results.sort(key = lambda r: r[-1])\n",
    "    \n",
    "        # with open('data/axioms-results-holdout-{}-{}-details.csv'.format(fuzzifier.name, h), 'w') as output_file:\n",
    "        #     writer = csv.writer(output_file)\n",
    "        #     writer.writerows(results)\n",
    "        #\n",
    "        # with open('data/axioms-results-holdout-{}-{}-global.csv'.format(fuzzifier.name, h), 'w') as output_file:\n",
    "        #     writer = csv.writer(output_file)\n",
    "        #     writer.writerows([\n",
    "        #         ('membership RMSE', membership_rmse),\n",
    "        #         ('membership median', membership_median),\n",
    "        #         ('membership STDEV', membership_stdev),\n",
    "        #         ('possibility RMSE', possibility_rmse),\n",
    "        #         ('possibility median', possibility_median),\n",
    "        #         ('possibility STDEV', possibility_stdev),\n",
    "        #     ])\n",
    "        #\n",
    "        # errors = [r[-1] for r in results]\n",
    "        # plt.figure()\n",
    "        # p = plt.boxplot(errors)\n",
    "        # plt.savefig('data/axioms-results-holdout-{}-{}-boxplot.png'.format(fuzzifier.name, h))\n",
    "        # plt.clf()\n",
    "        #\n",
    "        # plt.figure()\n",
    "        # p = plt.hist(errors, bins=50)\n",
    "        # plt.savefig('data/axioms-results-holdout-{}-{}-histogram.png'.format(fuzzifier.name, h))\n",
    "        # plt.clf()\n",
    "        #\n",
    "        # gc.collect()\n",
    "\n",
    "    if verbose:\n",
    "        print 'Membership average values:'\n",
    "        print 'RMSE: {}'.format(np.average(metrics_membership_rmse))\n",
    "        print 'Median: {}'.format(np.average(metrics_membership_median))\n",
    "        print 'STDEV: {}'.format(np.average(metrics_membership_stdev))\n",
    "\n",
    "        print 'Possibility average values:'\n",
    "        print 'RMSE: {}'.format(np.average(metrics_possibility_rmse))\n",
    "        print 'Median: {}'.format(np.average(metrics_possibility_median))\n",
    "        print 'STDEV: {}'.format(np.average(metrics_possibility_stdev))\n",
    "\n",
    "    # with open('data/axioms-results-holdout-{}-average-metrics.csv'.format(fuzzifier.name), 'w') as output_file:\n",
    "    #     writer = csv.writer(output_file)\n",
    "    #     writer.writerows([\n",
    "    #         ('membership average RMSE', np.average(metrics_membership_rmse)),\n",
    "    #         ('membership average median', np.average(metrics_membership_median)),\n",
    "    #         ('membership average STDEV', np.average(metrics_membership_stdev)),\n",
    "    #         ('possibility average RMSE', np.average(metrics_possibility_rmse)),\n",
    "    #         ('possibility average median', np.average(metrics_possibility_median)),\n",
    "    #         ('possibility average STDEV', np.average(metrics_possibility_stdev)),\n",
    "    #    ])"
   ]
  },
  {
   "cell_type": "code",
   "execution_count": null,
   "metadata": {
    "collapsed": false
   },
   "outputs": [
    {
     "name": "stdout",
     "output_type": "stream",
     "text": [
      "starting experiments for fuzzifier $\\hat\\mu_{\\text{crisp}}$\n",
      "holdout 0 of 2\n",
      "in holdout 0 best C is 0.005\n",
      "holdout 1 of 2\n",
      "in holdout 1 best C is 0.005\n",
      "Membership average values:\n",
      "RMSE: 0.42517167019\n",
      "Median: 9.61922071023e-07\n",
      "STDEV: 0.373746977931\n",
      "Possibility average values:\n",
      "RMSE: 0.566351235243\n",
      "Median: 0.00118480965823\n",
      "STDEV: 0.612410068839\n",
      "experiments for fuzzifier $\\hat\\mu_{\\text{crisp}}$ ended\n",
      "starting experiments for fuzzifier $\\hat\\mu_{\\text{lin}}$\n",
      "holdout 0 of 2\n",
      "in holdout 0 best C is 0.005\n",
      "holdout 1 of 2\n",
      "in holdout 1 best C is 0.007\n",
      "Membership average values:\n",
      "RMSE: 0.36791827703\n",
      "Median: 0.0147051954618\n",
      "STDEV: 0.26273376994\n",
      "Possibility average values:\n",
      "RMSE: 0.579311095742\n",
      "Median: 0.0978749215049\n",
      "STDEV: 0.562090045769\n",
      "experiments for fuzzifier $\\hat\\mu_{\\text{lin}}$ ended\n",
      "starting experiments for fuzzifier $\\hat\\mu_{\\text{qconst}}$\n",
      "holdout 0 of 2\n",
      "in holdout 0 best C is 0.03\n",
      "holdout 1 of 2\n",
      "in holdout 1 best C is 0.005\n",
      "Membership average values:\n",
      "RMSE: 0.390727514875\n",
      "Median: 0.0322959452765\n",
      "STDEV: 0.26350319852\n",
      "Possibility average values:\n",
      "RMSE: 0.607796827278\n",
      "Median: 0.22561264728\n",
      "STDEV: 0.649333318027\n",
      "experiments for fuzzifier $\\hat\\mu_{\\text{qconst}}$ ended\n",
      "starting experiments for fuzzifier $\\hat\\mu_{\\text{qlin}}$\n",
      "holdout 0 of 2\n",
      "in holdout 0 best C is 0.005\n",
      "holdout 1 of 2\n",
      "in holdout 1 best C is 0.5\n",
      "Membership average values:\n",
      "RMSE: 0.393003148726\n",
      "Median: 0.00634721911023\n",
      "STDEV: 0.244307337507\n",
      "Possibility average values:\n",
      "RMSE: 0.595879908311\n",
      "Median: 0.246629766042\n",
      "STDEV: 0.469138117341\n",
      "experiments for fuzzifier $\\hat\\mu_{\\text{qlin}}$ ended\n",
      "starting experiments for fuzzifier $\\hat\\mu_{\\text{exp},0.001}$\n",
      "holdout 0 of 2\n",
      "in holdout 0 best C is 0.005\n",
      "holdout 1 of 2\n",
      "in holdout 1 best C is 1\n",
      "Membership average values:\n",
      "RMSE: 0.528591917901\n",
      "Median: 2.71741747579e-05\n",
      "STDEV: 0.429088673637\n",
      "Possibility average values:\n",
      "RMSE: 0.577850363084\n",
      "Median: 0.00210052047604\n",
      "STDEV: 0.558293803731\n",
      "experiments for fuzzifier $\\hat\\mu_{\\text{exp},0.001}$ ended\n",
      "starting experiments for fuzzifier $\\hat\\mu_{\\text{exp},0.005}$\n",
      "holdout 0 of 2\n"
     ]
    }
   ],
   "source": [
    "from possibilearn.fuzzifiers import *\n",
    "\n",
    "\n",
    "k = PrecomputedKernel(gram)\n",
    "axiom_indices = range(n)\n",
    "\n",
    "def g(m):\n",
    "    return np.random.choice(axiom_indices, m if m <= len(axiom_indices) else len(axiom_indices))\n",
    "\n",
    "#cs = (0.0062, 0.00625, 0.0063, 0.00635, 0.0064)\n",
    "cs = (0.005, 0.007, 0.01, 0.03, 0.05, 0.07, 0.1, 0.3, 0.5, 0.7, 1, 10, 100)\n",
    "ks = (k,)\n",
    "\n",
    "num_holdouts = 1\n",
    "percentages = (.8, .1, .1)\n",
    "\n",
    "fuzzifiers = [CrispFuzzifier(),\n",
    "              LinearFuzzifier(),\n",
    "              QuantileConstantPiecewiseFuzzifier(),\n",
    "              QuantileLinearPiecewiseFuzzifier()] + \\\n",
    "             [ExponentialFuzzifier(alpha)\n",
    "              for alpha in (.001, .005, 0.07, 0.1, 0.2, 0.3, 0.4, 0.5)]\n",
    "\n",
    "for f in fuzzifiers:\n",
    "    print 'starting experiments for fuzzifier {}'.format(f.latex_name)\n",
    "    estimate_possibility(n, mu, g, cs, ks, num_holdouts, percentages, f,\n",
    "                         verbose=True, crisp=True)\n",
    "    print 'experiments for fuzzifier {} ended'.format(f.latex_name)"
   ]
  },
  {
   "cell_type": "code",
   "execution_count": null,
   "metadata": {
    "collapsed": true
   },
   "outputs": [],
   "source": []
  }
 ],
 "metadata": {
  "kernelspec": {
   "display_name": "Python 2",
   "language": "python",
   "name": "python2"
  },
  "language_info": {
   "codemirror_mode": {
    "name": "ipython",
    "version": 2
   },
   "file_extension": ".py",
   "mimetype": "text/x-python",
   "name": "python",
   "nbconvert_exporter": "python",
   "pygments_lexer": "ipython2",
   "version": "2.7.10"
  },
  "widgets": {
   "state": {
    "226c55d900814f9e91161f5392d82df4": {
     "views": [
      {
       "cell_index": 8
      }
     ]
    }
   },
   "version": "1.2.0"
  }
 },
 "nbformat": 4,
 "nbformat_minor": 0
}
